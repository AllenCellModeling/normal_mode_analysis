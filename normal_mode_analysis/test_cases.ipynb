from simple_model_examples.py import *
