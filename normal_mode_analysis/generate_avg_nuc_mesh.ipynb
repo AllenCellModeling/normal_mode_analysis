{
 "cells": [
  {
   "cell_type": "code",
   "execution_count": 1,
   "metadata": {},
   "outputs": [],
   "source": [
    "from mean_nuc_mesh_from_data import *\n",
    "import pandas"
   ]
  },
  {
   "cell_type": "code",
   "execution_count": 2,
   "metadata": {},
   "outputs": [],
   "source": [
    "# Uncomment below to download nucleus mesh database and save to csv\n",
    "# df = create_csv_from_database()\n",
    "# pd.to_csv(df, 'nucleus_data/nucleus_timelapse')\n",
    "\n",
    "# Uncomment below to load saved dataset of individual meshes\n",
    "# df = pd.load('nucleus_data/nucleus_timelapse')\n",
    "\n",
    "# Uncomment below to create mean nucleus mesh (includes saving mask to file)\n",
    "# get_mean_mesh_from_individual_meshes(df)"
   ]
  },
  {
   "cell_type": "code",
   "execution_count": 3,
   "metadata": {},
   "outputs": [],
   "source": [
    "# Uncomment below to load mean nucleus mask and get mean nucleus mesh\n",
    "mask = np.load('nucleus_data/mean_nuc_mask.npy')\n",
    "verts, faces = get_mean_mesh(mask)"
   ]
  },
  {
   "cell_type": "code",
   "execution_count": 4,
   "metadata": {},
   "outputs": [],
   "source": [
    "# Unommcent below to save mesh to stl file\n",
    "save_mesh_as_stl(verts, faces, 'nucleus_data/mean_nuc_mesh')"
   ]
  },
  {
   "cell_type": "code",
   "execution_count": 5,
   "metadata": {},
   "outputs": [],
   "source": [
    "# Uncomment below to load stl mesh and get vertices\n",
    "stlnuc = mesh.Mesh.from_file('nucleus_data/mean_nuc_mesh.stl')\n",
    "points = np.unique(stlnuc.vectors.reshape([int(stlnuc.vectors.size/3), 3]), axis=0)"
   ]
  },
  {
   "cell_type": "code",
   "execution_count": 6,
   "metadata": {},
   "outputs": [
    {
     "data": {
      "text/plain": [
       "array([55.016247, 95.      , 99.45    ], dtype=float32)"
      ]
     },
     "execution_count": 6,
     "metadata": {},
     "output_type": "execute_result"
    }
   ],
   "source": [
    "points[10]"
   ]
  },
  {
   "cell_type": "code",
   "execution_count": 7,
   "metadata": {},
   "outputs": [
    {
     "data": {
      "text/plain": [
       "array([55.958843, 83.      , 98.      ], dtype=float32)"
      ]
     },
     "execution_count": 7,
     "metadata": {},
     "output_type": "execute_result"
    }
   ],
   "source": [
    "verts[10]"
   ]
  },
  {
   "cell_type": "code",
   "execution_count": null,
   "metadata": {},
   "outputs": [],
   "source": []
  }
 ],
 "metadata": {
  "kernelspec": {
   "display_name": "Python (julie_nucleus)",
   "language": "python",
   "name": "julie_nucleus"
  },
  "language_info": {
   "codemirror_mode": {
    "name": "ipython",
    "version": 3
   },
   "file_extension": ".py",
   "mimetype": "text/x-python",
   "name": "python",
   "nbconvert_exporter": "python",
   "pygments_lexer": "ipython3",
   "version": "3.7.3"
  }
 },
 "nbformat": 4,
 "nbformat_minor": 2
}
