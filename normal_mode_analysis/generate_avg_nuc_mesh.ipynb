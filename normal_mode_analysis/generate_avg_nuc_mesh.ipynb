{
 "cells": [
  {
   "cell_type": "code",
   "execution_count": 4,
   "metadata": {},
   "outputs": [],
   "source": [
    "from mean_nuc_mesh_from_data import *\n",
    "import pandas"
   ]
  },
  {
   "cell_type": "markdown",
   "metadata": {},
   "source": [
    "Load segmentation meshes and create mean mesh from them"
   ]
  },
  {
   "cell_type": "code",
   "execution_count": null,
   "metadata": {},
   "outputs": [],
   "source": [
    "# Uncomment below to download nucleus mesh database and save to csv\n",
    "# df = create_csv_from_database()\n",
    "# pd.to_csv(df, 'nucleus_data/nucleus_timelapse')\n",
    "\n",
    "# Uncomment below to load saved dataset of individual meshes\n",
    "df = pd.read_csv('nucleus_mesh_data/nucleus_timelapse.csv')\n",
    "\n",
    "# Uncomment below to create mean nucleus mesh (includes saving mask to file)\n",
    "verts, faces, mask = get_mean_mesh_from_individual_meshes(df=df, imsize=200, dz=0.025)"
   ]
  },
  {
   "cell_type": "markdown",
   "metadata": {},
   "source": [
    "Load pre-caluclated (above) mean mesh, and load vertices and faces to save as stl file"
   ]
  },
  {
   "cell_type": "code",
   "execution_count": 10,
   "metadata": {},
   "outputs": [],
   "source": [
    "# Uncomment below to load mean nucleus mask and get mean nucleus mesh\n",
    "dz=0.025\n",
    "mask = np.load('nucleus_mesh_data/mean_nuc_mask_dz_'+str(dz)+'.npy')\n",
    "verts, faces = get_mean_mesh(mask, imsize=200, dz=0.025)\n",
    "np.save('nucleus_mesh_data/marching_cubes_meshes/verts_'+str(verts.shape[0])+'_dz'+str(dz), verts)\n",
    "np.save('nucleus_mesh_data/marching_cubes_meshes/faces_'+str(verts.shape[0])+'_dz'+str(dz), faces)"
   ]
  },
  {
   "cell_type": "code",
   "execution_count": 7,
   "metadata": {},
   "outputs": [],
   "source": [
    "# Unommcent below to save mesh to stl file\n",
    "fname = 'nucleus_mesh_data/mean_nuc_mesh_dz_'+str(dz)+'_v_'+str(verts.shape[0])\n",
    "save_mesh_as_stl(verts, faces, fname)"
   ]
  },
  {
   "cell_type": "code",
   "execution_count": 8,
   "metadata": {},
   "outputs": [
    {
     "name": "stdout",
     "output_type": "stream",
     "text": [
      "done\n"
     ]
    }
   ],
   "source": [
    "print('done')"
   ]
  },
  {
   "cell_type": "markdown",
   "metadata": {},
   "source": [
    "From here, you can use the stl mesh to generate a more uniform triangular mesh using Blender. For this workflow, go to the 'generate_uniform_nuc_trimesh.py' script."
   ]
  },
  {
   "cell_type": "code",
   "execution_count": null,
   "metadata": {},
   "outputs": [],
   "source": []
  }
 ],
 "metadata": {
  "kernelspec": {
   "display_name": "Python (nucleus)",
   "language": "python",
   "name": "nucleus"
  },
  "language_info": {
   "codemirror_mode": {
    "name": "ipython",
    "version": 3
   },
   "file_extension": ".py",
   "mimetype": "text/x-python",
   "name": "python",
   "nbconvert_exporter": "python",
   "pygments_lexer": "ipython3",
   "version": "3.7.3"
  }
 },
 "nbformat": 4,
 "nbformat_minor": 2
}
